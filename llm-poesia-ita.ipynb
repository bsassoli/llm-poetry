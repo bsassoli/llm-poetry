{
 "cells": [
  {
   "cell_type": "markdown",
   "id": "71b0df67-4a16-44b6-b86c-518d00ba2826",
   "metadata": {},
   "source": [
    "# Can an LLM tell real from artificial poetry?"
   ]
  },
  {
   "cell_type": "code",
   "execution_count": 18,
   "id": "79862370-32ca-41d3-966b-ac50f0dcf9c6",
   "metadata": {
    "editable": true,
    "slideshow": {
     "slide_type": ""
    },
    "tags": []
   },
   "outputs": [],
   "source": [
    "from statistics import NormalDist\n",
    "import json\n",
    "import pandas as pd"
   ]
  },
  {
   "cell_type": "markdown",
   "id": "2735accb-b152-4c42-aeff-9f8999ec577f",
   "metadata": {},
   "source": [
    "Non poco si è scritto sulle capacità degli LLM di generare letteratura. Non molta attenzione è stata invece dedicata alla domanda: un LLM può distinguere una poesia da dei versi generati artificialmente? Questo notebook tenta di rispondere a questa domanda. Per farlo, propongo un semplice compito di classificazione, in cui più LLM classificano un insieme di testi come “poesie” o “non poesie”.\n",
    "Prendiamo un campione di $n > 96$ poesie dove \n",
    "$$n = \\frac{Z^2\\cdot{p}\\cdot(1-p)}{E^2}$$\n",
    "con:\n",
    "- $Z$ = Z-score per un livello di confidenza del 95%\n",
    "- $p$ = proporzione di esempi positivi = 50%\n",
    "- $E$ = margine di errore pari a 0.10.\n",
    "\n",
    "Le poesie sono state selezionate da un campione relativamente arbitrario di poeti elencati nella categoria Wikipedia [_Poeti italiani del XXI secolo_](https://it.wikipedia.org/wiki/Categoria:Poeti_italiani_del_XXI_secolo)."
   ]
  },
  {
   "cell_type": "code",
   "execution_count": 19,
   "id": "358b1c56-33f2-4d5f-9019-aaed9555c428",
   "metadata": {},
   "outputs": [],
   "source": [
    "with open(\"out/poems.json\", \"r\") as f:\n",
    "    poems = json.loads(f.read())[\"poems\"]"
   ]
  },
  {
   "cell_type": "code",
   "execution_count": 20,
   "id": "2567f028-3978-496c-8ba1-66a369b8433f",
   "metadata": {},
   "outputs": [
    {
     "name": "stdout",
     "output_type": "stream",
     "text": [
      "Max 2396, Min 72\n"
     ]
    }
   ],
   "source": [
    "lengths = [len(item[\"text\"]) for item in poems]\n",
    "print(f\"Max {max(lengths)}, Min {min(lengths)}\")"
   ]
  },
  {
   "cell_type": "code",
   "execution_count": 25,
   "id": "d9a8bd4d-9b32-48b0-a2f6-61712fb8cb47",
   "metadata": {},
   "outputs": [],
   "source": [
    "df = pd.DataFrame(poems)\n",
    "df = df.set_index(\"id\", drop=True)\n",
    "df[\"author\"] = df[\"first_name\"] + \" \" + df[\"last_name\"]"
   ]
  },
  {
   "cell_type": "code",
   "execution_count": 26,
   "id": "b2c606bc-dd51-402d-9685-fe9a7989694e",
   "metadata": {},
   "outputs": [
    {
     "ename": "NameError",
     "evalue": "name 'unique' is not defined",
     "output_type": "error",
     "traceback": [
      "\u001b[0;31m---------------------------------------------------------------------------\u001b[0m",
      "\u001b[0;31mNameError\u001b[0m                                 Traceback (most recent call last)",
      "Cell \u001b[0;32mIn[26], line 1\u001b[0m\n\u001b[0;32m----> 1\u001b[0m df\u001b[38;5;241m.\u001b[39mlast_name(\u001b[43munique\u001b[49m)\n",
      "\u001b[0;31mNameError\u001b[0m: name 'unique' is not defined"
     ]
    }
   ],
   "source": [
    "df.last_name.nique)"
   ]
  },
  {
   "cell_type": "code",
   "execution_count": 15,
   "id": "95897a4a-e35c-4e6e-ae36-39570e446942",
   "metadata": {},
   "outputs": [],
   "source": [
    "df[\"text\"] = df[\"text\"].str.join(\"\\n\")"
   ]
  },
  {
   "cell_type": "code",
   "execution_count": 17,
   "id": "a45f126f-5262-4284-921e-5ce36ca1a5b0",
   "metadata": {},
   "outputs": [
    {
     "name": "stdout",
     "output_type": "stream",
     "text": [
      "title                         Ero solo e seduto. La mia storia \n",
      "text          Ero solo e seduto. La mia storia\\nappoggiavo a...\n",
      "first_name                                                Penna\n",
      "last_name                                                Sandro\n",
      "Name: 3, dtype: object\n"
     ]
    }
   ],
   "source": [
    "print(df.iloc[3])"
   ]
  },
  {
   "cell_type": "code",
   "execution_count": null,
   "id": "52d856d9-3b74-4fb8-b054-7bf8746ebc15",
   "metadata": {},
   "outputs": [],
   "source": []
  }
 ],
 "metadata": {
  "kernelspec": {
   "display_name": "venv",
   "language": "python",
   "name": "venv"
  },
  "language_info": {
   "codemirror_mode": {
    "name": "ipython",
    "version": 3
   },
   "file_extension": ".py",
   "mimetype": "text/x-python",
   "name": "python",
   "nbconvert_exporter": "python",
   "pygments_lexer": "ipython3",
   "version": "3.12.4"
  }
 },
 "nbformat": 4,
 "nbformat_minor": 5
}
