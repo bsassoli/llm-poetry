{
 "cells": [
  {
   "cell_type": "markdown",
   "id": "71b0df67-4a16-44b6-b86c-518d00ba2826",
   "metadata": {},
   "source": [
    "# Can an LLM tell real from artificial poetry?"
   ]
  },
  {
   "cell_type": "code",
   "execution_count": 1,
   "id": "79862370-32ca-41d3-966b-ac50f0dcf9c6",
   "metadata": {},
   "outputs": [],
   "source": [
    "from statistics import NormalDist\n",
    "import json\n",
    "import pandas as pd"
   ]
  },
  {
   "cell_type": "markdown",
   "id": "124665ae-d808-4ed2-bcd7-39a2bc3d3c20",
   "metadata": {},
   "source": [
    "Non poco si è scritto sulle capacità degli LLM di generare letteratura. Non molta attenzione è stata invece dedicata alla domanda: un LLM può distinguere una poesia da dei versi generati artificialmente? Questo notebook tenta di rispondere a questa domanda. Per farlo, propongo un semplice compito di classificazione, in cui più LLM classificano un insieme di testi come “poesie” o “non poesie”.\n",
    "<p style=\"color:blue\">[TODO]: <span style=\"color:gray\"> references on a lot has been written<span><p>\n",
    "Prendiamo un campione di $n > 96$ poesie dove \n",
    "$$n = \\frac{Z^2\\cdot{p}\\cdot(1-p)}{E^2}$$\n",
    "con: \n",
    "- $Z$ = Z-score per un livello di confidenza del 95%\n",
    "- $p$ = proporzione di esempi positivi = 50%\n",
    "- $E$ = margine di errore pari a 0.10\n",
    "Le poesie sono state selezionate da un campione relativamente arbitrario di poeti elencati nella categoria Wikipedia [Poeti italiani del XXI secolo](https://it.wikipedia.org/wiki/Categoria:Poeti_italiani_del_XXI_secolo). I poeti selezionati sono:"
   ]
  },
  {
   "cell_type": "code",
   "execution_count": 10,
   "id": "73943942-dd88-4a4b-9844-4a96211f4bcc",
   "metadata": {},
   "outputs": [
    {
     "ename": "ValueError",
     "evalue": "too many values to unpack (expected 2)",
     "output_type": "error",
     "traceback": [
      "\u001b[0;31m---------------------------------------------------------------------------\u001b[0m",
      "\u001b[0;31mValueError\u001b[0m                                Traceback (most recent call last)",
      "Cell \u001b[0;32mIn[10], line 3\u001b[0m\n\u001b[1;32m      1\u001b[0m \u001b[38;5;28;01mwith\u001b[39;00m \u001b[38;5;28mopen\u001b[39m(\u001b[38;5;124m\"\u001b[39m\u001b[38;5;124mtexts/poets.txt\u001b[39m\u001b[38;5;124m\"\u001b[39m, \u001b[38;5;124m\"\u001b[39m\u001b[38;5;124mr\u001b[39m\u001b[38;5;124m\"\u001b[39m) \u001b[38;5;28;01mas\u001b[39;00m f:\n\u001b[1;32m      2\u001b[0m     poets \u001b[38;5;241m=\u001b[39m f\u001b[38;5;241m.\u001b[39mreadlines()\n\u001b[0;32m----> 3\u001b[0m poets \u001b[38;5;241m=\u001b[39m [(name\u001b[38;5;241m.\u001b[39mupper(), last_name\u001b[38;5;241m.\u001b[39mupper()) \u001b[38;5;28;01mfor\u001b[39;00m poet \u001b[38;5;129;01min\u001b[39;00m poets \u001b[38;5;28;01mfor\u001b[39;00m name, last_name \u001b[38;5;129;01min\u001b[39;00m poet\u001b[38;5;241m.\u001b[39msplit(\u001b[38;5;124m\"\u001b[39m\u001b[38;5;124m \u001b[39m\u001b[38;5;124m\"\u001b[39m)]\n",
      "\u001b[0;31mValueError\u001b[0m: too many values to unpack (expected 2)"
     ]
    }
   ],
   "source": [
    "with open(\"texts/poets.txt\", \"r\") as f:"
   ]
  },
  {
   "cell_type": "code",
   "execution_count": null,
   "id": "3b6ed32b-2be8-4d65-824c-02db83bffc21",
   "metadata": {},
   "outputs": [],
   "source": []
  },
  {
   "cell_type": "code",
   "execution_count": 65,
   "id": "2b2eac3a-8c8b-40c1-b123-644e6c0afa79",
   "metadata": {},
   "outputs": [
    {
     "data": {
      "text/plain": [
       "96"
      ]
     },
     "execution_count": 65,
     "metadata": {},
     "output_type": "execute_result"
    }
   ],
   "source": [
    "Z = calculate_Z_score(0.95)\n",
    "p = 0.5\n",
    "accuracy = 0.10\n",
    "sample_size = calculate_sample_size(Z, p, accuracy)\n",
    "sample_size"
   ]
  },
  {
   "cell_type": "code",
   "execution_count": 66,
   "id": "358b1c56-33f2-4d5f-9019-aaed9555c428",
   "metadata": {},
   "outputs": [],
   "source": [
    "with open(\"out/poems.json\", \"r\") as f:\n",
    "    poems = json.loads(f.read())[\"poems\"]"
   ]
  },
  {
   "cell_type": "code",
   "execution_count": 89,
   "id": "2567f028-3978-496c-8ba1-66a369b8433f",
   "metadata": {},
   "outputs": [
    {
     "name": "stdout",
     "output_type": "stream",
     "text": [
      "Max 72, Min 4\n"
     ]
    }
   ],
   "source": [
    "lengths = [len(item[\"text\"]) for item in poems]\n",
    "print(f\"Max {max(lengths)}, Min {min(lengths)}\")"
   ]
  },
  {
   "cell_type": "code",
   "execution_count": 90,
   "id": "d9a8bd4d-9b32-48b0-a2f6-61712fb8cb47",
   "metadata": {},
   "outputs": [],
   "source": [
    "df = pd.DataFrame(poems)\n",
    "df = df.set_index(\"id\", drop=True)"
   ]
  },
  {
   "cell_type": "code",
   "execution_count": 91,
   "id": "b2c606bc-dd51-402d-9685-fe9a7989694e",
   "metadata": {},
   "outputs": [
    {
     "data": {
      "text/html": [
       "<div>\n",
       "<style scoped>\n",
       "    .dataframe tbody tr th:only-of-type {\n",
       "        vertical-align: middle;\n",
       "    }\n",
       "\n",
       "    .dataframe tbody tr th {\n",
       "        vertical-align: top;\n",
       "    }\n",
       "\n",
       "    .dataframe thead th {\n",
       "        text-align: right;\n",
       "    }\n",
       "</style>\n",
       "<table border=\"1\" class=\"dataframe\">\n",
       "  <thead>\n",
       "    <tr style=\"text-align: right;\">\n",
       "      <th></th>\n",
       "      <th>title</th>\n",
       "      <th>text</th>\n",
       "      <th>first_name</th>\n",
       "      <th>last_name</th>\n",
       "    </tr>\n",
       "    <tr>\n",
       "      <th>id</th>\n",
       "      <th></th>\n",
       "      <th></th>\n",
       "      <th></th>\n",
       "      <th></th>\n",
       "    </tr>\n",
       "  </thead>\n",
       "  <tbody>\n",
       "    <tr>\n",
       "      <th>0</th>\n",
       "      <td>Le mani</td>\n",
       "      <td>[Queste tue mani a difesa di te:, mi fanno ser...</td>\n",
       "      <td>vittorio</td>\n",
       "      <td>sereni</td>\n",
       "    </tr>\n",
       "    <tr>\n",
       "      <th>1</th>\n",
       "      <td>In me il tuo ricordo</td>\n",
       "      <td>[In me il tuo ricordo è un fruscìo, solo di ve...</td>\n",
       "      <td>vittorio</td>\n",
       "      <td>sereni</td>\n",
       "    </tr>\n",
       "    <tr>\n",
       "      <th>2</th>\n",
       "      <td>Dimitrios</td>\n",
       "      <td>[Alla tenda s'accosta, il piccolo nemico, Dimi...</td>\n",
       "      <td>vittorio</td>\n",
       "      <td>sereni</td>\n",
       "    </tr>\n",
       "    <tr>\n",
       "      <th>3</th>\n",
       "      <td>Fissità</td>\n",
       "      <td>[Da me a quell'ombra in bilico tra fiume e mar...</td>\n",
       "      <td>vittorio</td>\n",
       "      <td>sereni</td>\n",
       "    </tr>\n",
       "    <tr>\n",
       "      <th>4</th>\n",
       "      <td>Viaggio di andata e ritorno</td>\n",
       "      <td>[Andrò a ritroso della nostra corsa, di poco f...</td>\n",
       "      <td>vittorio</td>\n",
       "      <td>sereni</td>\n",
       "    </tr>\n",
       "  </tbody>\n",
       "</table>\n",
       "</div>"
      ],
      "text/plain": [
       "                          title  \\\n",
       "id                                \n",
       "0                       Le mani   \n",
       "1          In me il tuo ricordo   \n",
       "2                     Dimitrios   \n",
       "3                       Fissità   \n",
       "4   Viaggio di andata e ritorno   \n",
       "\n",
       "                                                 text first_name last_name  \n",
       "id                                                                          \n",
       "0   [Queste tue mani a difesa di te:, mi fanno ser...   vittorio    sereni  \n",
       "1   [In me il tuo ricordo è un fruscìo, solo di ve...   vittorio    sereni  \n",
       "2   [Alla tenda s'accosta, il piccolo nemico, Dimi...   vittorio    sereni  \n",
       "3   [Da me a quell'ombra in bilico tra fiume e mar...   vittorio    sereni  \n",
       "4   [Andrò a ritroso della nostra corsa, di poco f...   vittorio    sereni  "
      ]
     },
     "execution_count": 91,
     "metadata": {},
     "output_type": "execute_result"
    }
   ],
   "source": [
    "df.head()"
   ]
  },
  {
   "cell_type": "code",
   "execution_count": 92,
   "id": "95897a4a-e35c-4e6e-ae36-39570e446942",
   "metadata": {},
   "outputs": [
    {
     "data": {
      "text/plain": [
       "[9,\n",
       " 13,\n",
       " 18,\n",
       " 8,\n",
       " 10,\n",
       " 35,\n",
       " 30,\n",
       " 13,\n",
       " 28,\n",
       " 8,\n",
       " 22,\n",
       " 47,\n",
       " 23,\n",
       " 22,\n",
       " 6,\n",
       " 4,\n",
       " 14,\n",
       " 12,\n",
       " 16,\n",
       " 53,\n",
       " 27,\n",
       " 4,\n",
       " 14,\n",
       " 11,\n",
       " 17,\n",
       " 26,\n",
       " 21,\n",
       " 13,\n",
       " 72,\n",
       " 24,\n",
       " 27,\n",
       " 13,\n",
       " 53,\n",
       " 16,\n",
       " 20,\n",
       " 11,\n",
       " 6,\n",
       " 9,\n",
       " 16,\n",
       " 8,\n",
       " 13,\n",
       " 9,\n",
       " 8,\n",
       " 4,\n",
       " 4,\n",
       " 18,\n",
       " 21,\n",
       " 22,\n",
       " 8,\n",
       " 24,\n",
       " 14,\n",
       " 41,\n",
       " 13,\n",
       " 9,\n",
       " 11,\n",
       " 34,\n",
       " 39,\n",
       " 14,\n",
       " 4,\n",
       " 4,\n",
       " 5,\n",
       " 12,\n",
       " 6,\n",
       " 5]"
      ]
     },
     "execution_count": 92,
     "metadata": {},
     "output_type": "execute_result"
    }
   ],
   "source": [
    "list(map(len, df.text))"
   ]
  },
  {
   "cell_type": "code",
   "execution_count": 80,
   "id": "a45f126f-5262-4284-921e-5ce36ca1a5b0",
   "metadata": {},
   "outputs": [
    {
     "name": "stdout",
     "output_type": "stream",
     "text": [
      "Da me a quell'ombra in bilico tra fiume e mare\n",
      "solo una striscia di esistenza\n",
      "in controluce dalla foce.\n",
      "Quell'uomo.\n",
      "Rammenda reti, ritinteggia uno scafo.\n",
      "Cose che io non so fare. Nominarle appena.\n",
      "Da me a lui nient'altro: una fissità.\n",
      "Ogni eccedenza andata altrove. O spenta.\n"
     ]
    }
   ],
   "source": [
    "print(df.iloc[3].text)"
   ]
  },
  {
   "cell_type": "code",
   "execution_count": null,
   "id": "52d856d9-3b74-4fb8-b054-7bf8746ebc15",
   "metadata": {},
   "outputs": [],
   "source": []
  }
 ],
 "metadata": {
  "kernelspec": {
   "display_name": "venv",
   "language": "python",
   "name": "venv"
  },
  "language_info": {
   "codemirror_mode": {
    "name": "ipython",
    "version": 3
   },
   "file_extension": ".py",
   "mimetype": "text/x-python",
   "name": "python",
   "nbconvert_exporter": "python",
   "pygments_lexer": "ipython3",
   "version": "3.12.4"
  }
 },
 "nbformat": 4,
 "nbformat_minor": 5
}
