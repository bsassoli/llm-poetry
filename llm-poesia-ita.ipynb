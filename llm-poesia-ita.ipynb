{
 "cells": [
  {
   "cell_type": "markdown",
   "id": "71b0df67-4a16-44b6-b86c-518d00ba2826",
   "metadata": {},
   "source": [
    "# Can an LLM tell real from artificial poetry?"
   ]
  },
  {
   "cell_type": "code",
   "execution_count": 4,
   "id": "79862370-32ca-41d3-966b-ac50f0dcf9c6",
   "metadata": {
    "editable": true,
    "slideshow": {
     "slide_type": ""
    },
    "tags": []
   },
   "outputs": [],
   "source": [
    "from statistics import NormalDist\n",
    "import json\n",
    "import pandas as pd"
   ]
  },
  {
   "cell_type": "markdown",
   "id": "2735accb-b152-4c42-aeff-9f8999ec577f",
   "metadata": {},
   "source": [
    "Non poco si è scritto sulle capacità degli LLM di generare letteratura. Non molta attenzione è stata invece dedicata alla domanda: un LLM può distinguere una poesia da dei versi generati artificialmente? Questo notebook tenta di rispondere a questa domanda. Per farlo, propongo un semplice compito di classificazione, in cui più LLM classificano un insieme di testi come “poesie” o “non poesie”.\n",
    "Prendiamo un campione di $n > 96$ poesie dove \n",
    "$$n = \\frac{Z^2\\cdot{p}\\cdot(1-p)}{E^2}$$\n",
    "con:\n",
    "- $Z$ = Z-score per un livello di confidenza del 95%\n",
    "- $p$ = proporzione di esempi positivi = 50%\n",
    "- $E$ = margine di errore pari a 0.10.\n",
    "\n",
    "Le poesie sono state selezionate da un campione relativamente arbitrario di poeti elencati nella categoria Wikipedia [_Poeti italiani del XXI secolo_](https://it.wikipedia.org/wiki/Categoria:Poeti_italiani_del_XXI_secolo)."
   ]
  },
  {
   "cell_type": "code",
   "execution_count": 9,
   "id": "358b1c56-33f2-4d5f-9019-aaed9555c428",
   "metadata": {},
   "outputs": [],
   "source": [
    "with open(\"out/poems.json\", \"r\") as f:\n",
    "    poems = json.loads(f.read())[\"poems\"]"
   ]
  },
  {
   "cell_type": "code",
   "execution_count": 10,
   "id": "2567f028-3978-496c-8ba1-66a369b8433f",
   "metadata": {},
   "outputs": [
    {
     "name": "stdout",
     "output_type": "stream",
     "text": [
      "Max 72, Min 4\n"
     ]
    }
   ],
   "source": [
    "lengths = [len(item[\"text\"]) for item in poems]\n",
    "print(f\"Max {max(lengths)}, Min {min(lengths)}\")"
   ]
  },
  {
   "cell_type": "code",
   "execution_count": 11,
   "id": "d9a8bd4d-9b32-48b0-a2f6-61712fb8cb47",
   "metadata": {},
   "outputs": [],
   "source": [
    "df = pd.DataFrame(poems)\n",
    "df = df.set_index(\"id\", drop=True)"
   ]
  },
  {
   "cell_type": "code",
   "execution_count": 12,
   "id": "b2c606bc-dd51-402d-9685-fe9a7989694e",
   "metadata": {},
   "outputs": [
    {
     "data": {
      "text/html": [
       "<div>\n",
       "<style scoped>\n",
       "    .dataframe tbody tr th:only-of-type {\n",
       "        vertical-align: middle;\n",
       "    }\n",
       "\n",
       "    .dataframe tbody tr th {\n",
       "        vertical-align: top;\n",
       "    }\n",
       "\n",
       "    .dataframe thead th {\n",
       "        text-align: right;\n",
       "    }\n",
       "</style>\n",
       "<table border=\"1\" class=\"dataframe\">\n",
       "  <thead>\n",
       "    <tr style=\"text-align: right;\">\n",
       "      <th></th>\n",
       "      <th>title</th>\n",
       "      <th>text</th>\n",
       "      <th>first_name</th>\n",
       "      <th>last_name</th>\n",
       "    </tr>\n",
       "    <tr>\n",
       "      <th>id</th>\n",
       "      <th></th>\n",
       "      <th></th>\n",
       "      <th></th>\n",
       "      <th></th>\n",
       "    </tr>\n",
       "  </thead>\n",
       "  <tbody>\n",
       "    <tr>\n",
       "      <th>0</th>\n",
       "      <td>Le nere scale della mia taverna</td>\n",
       "      <td>[Le nere scale della mia taverna, tu discendi ...</td>\n",
       "      <td>Penna</td>\n",
       "      <td>Sandro</td>\n",
       "    </tr>\n",
       "    <tr>\n",
       "      <th>1</th>\n",
       "      <td>Era l’alba su i colli, e gli animali</td>\n",
       "      <td>[Era l’alba su i colli, e gli animali, ridavan...</td>\n",
       "      <td>Penna</td>\n",
       "      <td>Sandro</td>\n",
       "    </tr>\n",
       "    <tr>\n",
       "      <th>2</th>\n",
       "      <td>Quando tornai al mare di una volta</td>\n",
       "      <td>[Quando tornai al mare di una volta,, nella se...</td>\n",
       "      <td>Penna</td>\n",
       "      <td>Sandro</td>\n",
       "    </tr>\n",
       "    <tr>\n",
       "      <th>3</th>\n",
       "      <td>Ero solo e seduto. La mia storia</td>\n",
       "      <td>[Ero solo e seduto. La mia storia, appoggiavo ...</td>\n",
       "      <td>Penna</td>\n",
       "      <td>Sandro</td>\n",
       "    </tr>\n",
       "    <tr>\n",
       "      <th>4</th>\n",
       "      <td>Felice chi è diverso</td>\n",
       "      <td>[Felice chi è diverso, essendo egli diverso., ...</td>\n",
       "      <td>Penna</td>\n",
       "      <td>Sandro</td>\n",
       "    </tr>\n",
       "  </tbody>\n",
       "</table>\n",
       "</div>"
      ],
      "text/plain": [
       "                                   title  \\\n",
       "id                                         \n",
       "0        Le nere scale della mia taverna   \n",
       "1   Era l’alba su i colli, e gli animali   \n",
       "2     Quando tornai al mare di una volta   \n",
       "3      Ero solo e seduto. La mia storia    \n",
       "4                   Felice chi è diverso   \n",
       "\n",
       "                                                 text first_name last_name  \n",
       "id                                                                          \n",
       "0   [Le nere scale della mia taverna, tu discendi ...      Penna    Sandro  \n",
       "1   [Era l’alba su i colli, e gli animali, ridavan...      Penna    Sandro  \n",
       "2   [Quando tornai al mare di una volta,, nella se...      Penna    Sandro  \n",
       "3   [Ero solo e seduto. La mia storia, appoggiavo ...      Penna    Sandro  \n",
       "4   [Felice chi è diverso, essendo egli diverso., ...      Penna    Sandro  "
      ]
     },
     "execution_count": 12,
     "metadata": {},
     "output_type": "execute_result"
    }
   ],
   "source": [
    "df.head()"
   ]
  },
  {
   "cell_type": "code",
   "execution_count": 15,
   "id": "95897a4a-e35c-4e6e-ae36-39570e446942",
   "metadata": {},
   "outputs": [],
   "source": [
    "df[\"text\"] = df[\"text\"].str.join(\"\\n\")"
   ]
  },
  {
   "cell_type": "code",
   "execution_count": 17,
   "id": "a45f126f-5262-4284-921e-5ce36ca1a5b0",
   "metadata": {},
   "outputs": [
    {
     "name": "stdout",
     "output_type": "stream",
     "text": [
      "title                         Ero solo e seduto. La mia storia \n",
      "text          Ero solo e seduto. La mia storia\\nappoggiavo a...\n",
      "first_name                                                Penna\n",
      "last_name                                                Sandro\n",
      "Name: 3, dtype: object\n"
     ]
    }
   ],
   "source": [
    "print(df.iloc[3])"
   ]
  },
  {
   "cell_type": "code",
   "execution_count": null,
   "id": "52d856d9-3b74-4fb8-b054-7bf8746ebc15",
   "metadata": {},
   "outputs": [],
   "source": []
  }
 ],
 "metadata": {
  "kernelspec": {
   "display_name": "venv",
   "language": "python",
   "name": "venv"
  },
  "language_info": {
   "codemirror_mode": {
    "name": "ipython",
    "version": 3
   },
   "file_extension": ".py",
   "mimetype": "text/x-python",
   "name": "python",
   "nbconvert_exporter": "python",
   "pygments_lexer": "ipython3",
   "version": "3.12.4"
  }
 },
 "nbformat": 4,
 "nbformat_minor": 5
}
